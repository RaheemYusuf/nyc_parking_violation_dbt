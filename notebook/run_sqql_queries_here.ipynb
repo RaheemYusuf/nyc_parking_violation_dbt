{
 "cells": [
  {
   "cell_type": "code",
   "execution_count": 13,
   "id": "55d329de",
   "metadata": {},
   "outputs": [],
   "source": [
    "import duckdb\n",
    "import pandas as pd"
   ]
  },
  {
   "cell_type": "code",
   "execution_count": 18,
   "id": "a4685a40",
   "metadata": {},
   "outputs": [
    {
     "data": {
      "text/html": [
       "<div>\n",
       "<style scoped>\n",
       "    .dataframe tbody tr th:only-of-type {\n",
       "        vertical-align: middle;\n",
       "    }\n",
       "\n",
       "    .dataframe tbody tr th {\n",
       "        vertical-align: top;\n",
       "    }\n",
       "\n",
       "    .dataframe thead th {\n",
       "        text-align: right;\n",
       "    }\n",
       "</style>\n",
       "<table border=\"1\" class=\"dataframe\">\n",
       "  <thead>\n",
       "    <tr style=\"text-align: right;\">\n",
       "      <th></th>\n",
       "      <th>name</th>\n",
       "    </tr>\n",
       "  </thead>\n",
       "  <tbody>\n",
       "    <tr>\n",
       "      <th>0</th>\n",
       "      <td>first_model</td>\n",
       "    </tr>\n",
       "    <tr>\n",
       "      <th>1</th>\n",
       "      <td>parking_violation_codes</td>\n",
       "    </tr>\n",
       "    <tr>\n",
       "      <th>2</th>\n",
       "      <td>parking_violations_2023</td>\n",
       "    </tr>\n",
       "  </tbody>\n",
       "</table>\n",
       "</div>"
      ],
      "text/plain": [
       "                      name\n",
       "0              first_model\n",
       "1  parking_violation_codes\n",
       "2  parking_violations_2023"
      ]
     },
     "metadata": {},
     "output_type": "display_data"
    }
   ],
   "source": [
    "sql_query = \"\"\"\n",
    "show tables\n",
    "\"\"\"\n",
    "\n",
    "with duckdb.connect('../db/nyc_parking_violations.db') as con:\n",
    "    display(con.sql(sql_query).df())"
   ]
  },
  {
   "cell_type": "code",
   "execution_count": 15,
   "id": "80617a86",
   "metadata": {},
   "outputs": [],
   "source": [
    "sql_query_import_1 = \"\"\"\n",
    "CREATE OR REPLACE TABLE parking_violation_codes AS\n",
    "SELECT *\n",
    "FROM read_csv_auto(\n",
    "    '../data/dof_parking_violation_codes.csv',\n",
    "    normalize_names=TRUE\n",
    ")\n",
    "\"\"\"\n",
    "\n",
    "\n",
    "sql_query_import_2 = \"\"\"\n",
    "CREATE OR REPLACE TABLE parking_violations_2023 AS\n",
    "SELECT *\n",
    "FROM read_csv_auto(\n",
    "    '../data/parking_violations_issued_fiscal_year_2023_sample.csv',\n",
    "    normalize_names=TRUE\n",
    ")\n",
    "\"\"\"\n",
    "\n",
    "with duckdb.connect('../db/nyc_parking_violations.db') as con:\n",
    "    con.sql(sql_query_import_1)\n",
    "    con.sql(sql_query_import_2)\n"
   ]
  }
 ],
 "metadata": {
  "kernelspec": {
   "display_name": "data-engineering-with-dbt-py3.12",
   "language": "python",
   "name": "python3"
  },
  "language_info": {
   "codemirror_mode": {
    "name": "ipython",
    "version": 3
   },
   "file_extension": ".py",
   "mimetype": "text/x-python",
   "name": "python",
   "nbconvert_exporter": "python",
   "pygments_lexer": "ipython3",
   "version": "3.12.3"
  }
 },
 "nbformat": 4,
 "nbformat_minor": 5
}
